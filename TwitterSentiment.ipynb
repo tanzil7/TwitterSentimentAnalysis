{
 "cells": [
  {
   "cell_type": "code",
   "execution_count": null,
   "metadata": {
    "id": "_-uNOA50LZM_"
   },
   "outputs": [],
   "source": [
    "import tweepy\n",
    "import json\n",
    "import pandas as pd"
   ]
  },
  {
   "cell_type": "code",
   "execution_count": null,
   "metadata": {
    "id": "IU6zwUzjL6Sr"
   },
   "outputs": [],
   "source": [
    "consumer_key=\"OeNWmI69E1OOtB6iSZHhhSmTI\"\n",
    "consumer_secret=\"x6Q7pnjdChfZWI6BaRsLnhrpvg1K9A3hq9dC7B4JS1tfAE1p8i\"\n",
    "access_token=\"1428093851726663696-3HptU32HDoZ738wirud9R1kDFPBinr\"\n",
    "access_token_secret=\"ZxwHER5JdsG6iumbwoIWagUDzUAwqnUtnphsSdQYvRmQx\"\n",
    "#bearer_token =\"AAAAAAAAAAAAAAAAAAAAAPxDSwEAAAAAMCz38bnNgYRadghhhgSMrpPk4Yk%3Dt0Vob3rcXvbDcKAifG513LXxt50SfK8qE1dp01HZlnU5jWacHd\""
   ]
  },
  {
   "cell_type": "code",
   "execution_count": null,
   "metadata": {
    "id": "wA_tdeOCMcN8"
   },
   "outputs": [],
   "source": [
    "# Twitter authentication\n",
    "auth = tweepy.OAuthHandler(consumer_key, consumer_secret)   \n",
    "auth.set_access_token(access_token, access_token_secret) \n",
    "# Creating an API object \n",
    "api = tweepy.API(auth)  "
   ]
  },
  {
   "cell_type": "code",
   "execution_count": null,
   "metadata": {
    "id": "cWlpmVpnMj03"
   },
   "outputs": [],
   "source": [
    "tweets = tweepy.Cursor(api.search, q=\"#nomaskmandate\", tweet_mode='extended').items(10000)\n"
   ]
  },
  {
   "cell_type": "code",
   "execution_count": null,
   "metadata": {
    "colab": {
     "base_uri": "https://localhost:8080/"
    },
    "id": "oKyBISGMOXPJ",
    "outputId": "681bfb7f-2495-44ed-b9f4-6e50b10714d0"
   },
   "outputs": [
    {
     "name": "stdout",
     "output_type": "stream",
     "text": [
      "@UFTScotland @scotgov EIS HQ yesterday.. Unmuzzled inside.. Vile double standards.  End the farce and abuse of kids @AnasSarwar @Douglas4Moray @agcolehamilton @murdo_fraser @ChrisMusson @EdinburghLive_ @UsforThemUK #Nomaskmandate #novaccinemandate https://t.co/D9ekKUzgo8\n",
      "0\n",
      "0\n",
      "2022-03-22 13:49:56\n",
      "@CheriDiNovo Crack on, just refrain from demanding any others follow the  dehumanising, harmful and useless muzzle up cult. #Nomaskmandate #NoMasks #NoVaccineMandate\n",
      "0\n",
      "0\n",
      "2022-03-22 07:25:42\n",
      "And We have Freedoms to not wear a mask. #NOMASKMANDATE https://t.co/dIb5mbyH1n\n",
      "0\n",
      "0\n",
      "2022-03-21 20:21:28\n",
      "RT @DarrenBellreads: Adults. Indoors. Muzzle free. End abusive farce all schools+. Urgent.. @ScotGovFM @AnasSarwar @agcolehamilton @Douglas…\n",
      "0\n",
      "3\n",
      "2022-03-21 19:03:24\n",
      "RT @DarrenBellreads: Adults. Indoors. Muzzle free. End abusive farce all schools+. Urgent.. @ScotGovFM @AnasSarwar @agcolehamilton @Douglas…\n",
      "0\n",
      "3\n",
      "2022-03-21 15:58:17\n",
      "RT @DarrenBellreads: Adults. Indoors. Muzzle free. End abusive farce all schools+. Urgent.. @ScotGovFM @AnasSarwar @agcolehamilton @Douglas…\n",
      "0\n",
      "3\n",
      "2022-03-21 15:13:29\n",
      "Adults. Indoors. Muzzle free. End abusive farce all schools+. Urgent.. @ScotGovFM @AnasSarwar @agcolehamilton @Douglas4Moray @Jen4Scot @scojw @EdinburghLive_ @UFTScotland @UsforThemUK @AllysonPollock @ChrisMusson @conor_matchett @nadhimzahawi #NoMaskmandate #NoVaccineMandates https://t.co/0p8yMvv9wt\n",
      "4\n",
      "3\n",
      "2022-03-21 15:12:20\n",
      "この動画は戦場❓って一瞬\n",
      "思ってしまうけど、実はオーストラリアの警官達がマスクをしてない市民を逮捕しようとしてるところ😂😂😂\n",
      "マスクをしてないことが重罪なんだね😥\n",
      "\n",
      "#nomaskmandate #policebrutally #australia #マスク強制反対 https://t.co/yPx1Rr5KNF\n",
      "3\n",
      "0\n",
      "2022-03-20 15:57:53\n",
      "RT @jeff1961johnson: #FUCKFAUCI #NOVACCINEMANDATE #NOMASKMANDATE #FAKENEWSMEDIASUCKS #WAKETHEFUCKUPAMERICA\n",
      "0\n",
      "1\n",
      "2022-03-19 21:42:42\n",
      "#FUCKFAUCI #NOVACCINEMANDATE #NOMASKMANDATE #FAKENEWSMEDIASUCKS #WAKETHEFUCKUPAMERICA https://t.co/utSJrR4bNg\n",
      "5\n",
      "1\n",
      "2022-03-19 21:41:03\n",
      "RT @MissouriCR: We support the work of our peers at all levels of our Government working to repeal any form of illegal mask mandates! #Lead…\n",
      "0\n",
      "4\n",
      "2022-03-18 23:46:40\n",
      "RT @DarrenBellreads: @GMB No words for this dangerous zero covid cult like credo.. Other than do one. Two years of Lockdown harms, deaths a…\n",
      "0\n",
      "1\n",
      "2022-03-18 22:45:09\n",
      "@GMB No words for this dangerous zero covid cult like credo.. Other than do one. Two years of Lockdown harms, deaths and fearporn, and still they witter on. Paid for shills not proper medics+. Main media are PR depts for big state. #NoVaccineMandates #nomaskmandate\n",
      "1\n",
      "1\n",
      "2022-03-18 22:44:52\n",
      "RT @MissouriCR: We support the work of our peers at all levels of our Government working to repeal any form of illegal mask mandates! #Lead…\n",
      "0\n",
      "4\n",
      "2022-03-18 22:39:48\n",
      "RT @MissouriCR: We support the work of our peers at all levels of our Government working to repeal any form of illegal mask mandates! #Lead…\n",
      "0\n",
      "4\n",
      "2022-03-18 13:23:18\n",
      "RT @MissouriCR: We support the work of our peers at all levels of our Government working to repeal any form of illegal mask mandates! #Lead…\n",
      "0\n",
      "4\n",
      "2022-03-18 04:07:42\n",
      "We support the work of our peers at all levels of our Government working to repeal any form of illegal mask mandates! #LeadRight #NoMaskMandate #StopTheMasks\n",
      "11\n",
      "4\n",
      "2022-03-18 02:31:02\n",
      "アメリカのタクシー🚕\n",
      "マスクもワクチンもあくまでもpersonal choice ❗️\n",
      "\n",
      "#nomaskmandate #novaccinemandate #マスクを外そう https://t.co/VPqwEWjgjw\n",
      "3\n",
      "0\n",
      "2022-03-17 14:09:00\n",
      "@an44dy @NotMikailTheCat @SwainForSenate @volunt4ryvoice Wear a mask if you are afraid of the never cleaner air on an airplane…..funny, it was never an issue before Rona.  #sheep #nomaskmandate\n",
      "0\n",
      "0\n",
      "2022-03-16 10:28:56\n",
      "Time to get the horrible ignoramus @ScotGovFM @theSNP out of our lives forever May 5th, this makes no sense whatsoever. #NoMaskMandate #ResignSturgeon #leaveourkidsalone #snpout #masksdontwork #tinpotdictator #snp #Scotland https://t.co/QP36Ig9UgH\n",
      "3\n",
      "0\n",
      "2022-03-15 14:07:36\n",
      "@mattventisei Not this house. Vile placebo and control symbol. Ditto Lockdowns which harm &amp; killI hope Stasi Sturgeon &amp; her shills face charges of malfeasance in public office. #Nomaskmandate #NoVaccineMandates #ResignSturgeon\n",
      "1\n",
      "0\n",
      "2022-03-15 13:12:33\n",
      "RT @AnonSamurai4J2: @mezamechu Few teachers in Japan can guide children\n",
      "We don't need schools if all we do is educate children to suffer ev…\n",
      "0\n",
      "2\n",
      "2022-03-15 12:23:59\n",
      "RT @AnonSamurai4J2: @mezamechu Few teachers in Japan can guide children\n",
      "We don't need schools if all we do is educate children to suffer ev…\n",
      "0\n",
      "2\n",
      "2022-03-15 12:11:17\n",
      "@mezamechu Few teachers in Japan can guide children\n",
      "We don't need schools if all we do is educate children to suffer everywhere\n",
      "\n",
      "#school #Japan #nomaskmandate \n",
      "#子供たちに以前の日常を \n",
      "#校則 #ブラック校則 #コロナ \n",
      "#コロナを5類以下に #NoMore\n",
      "2\n",
      "2\n",
      "2022-03-15 11:58:10\n",
      "@mezamechu \"I don't want this routine anymore!!\"\n",
      "\n",
      "This is the voice of Japanese junior high school students\n",
      "Japanese schools have a rule that lunch must be eaten in 15 minutes to prevent COVID19\n",
      "This issue is the same as war propaganda\n",
      "#school #Japan #nomaskmandate \n",
      "#子供たちに以前の日常を\n",
      "0\n",
      "0\n",
      "2022-03-15 11:55:30\n",
      "We are making progress! Come on, #Italy!\n",
      "\n",
      "Andiamo avanti! Forza, #Italia!\n",
      "\n",
      "#NoGreenPass\n",
      "#nogreenpassobbligatorio \n",
      "#NoMaskMandate https://t.co/i0FPXLGma5\n",
      "1\n",
      "0\n",
      "2022-03-15 09:00:17\n",
      "RT @DarrenBellreads: @jackiebmsp @scotgov Stop.  Apply brain. Testdemic is problem.  Please please ceasefire on fearporn &amp; associated 'meas…\n",
      "0\n",
      "1\n",
      "2022-03-15 07:55:18\n",
      "@jackiebmsp @scotgov Stop.  Apply brain. Testdemic is problem.  Please please ceasefire on fearporn &amp; associated 'measures'. Lockdowns, muzzles, coercion++ harm &amp; kill. End it. For all time. @AnasSarwar @Douglas4Moray @agcolehamilton @murdo_fraser #ResignSturgeon #NoVaccineMandates #nomaskmandate\n",
      "0\n",
      "1\n",
      "2022-03-15 07:55:10\n"
     ]
    }
   ],
   "source": [
    "for tweet in tweets:\n",
    "  text = tweet._json[\"full_text\"]\n",
    "  print(text)\n",
    "\n",
    "  print(tweet.favorite_count)\n",
    "  print(tweet.retweet_count)\n",
    "  print(tweet.created_at)"
   ]
  },
  {
   "cell_type": "markdown",
   "metadata": {
    "id": "XXDX9UVpXbUA"
   },
   "source": [
    "First, you need to import all the packages required and initialize the token and key variables. OAuth essentially allows the user, via an authentication provider that they have previously successfully authenticated with, to give another website/service a limited access authentication token for authorization to additional resources."
   ]
  },
  {
   "cell_type": "code",
   "execution_count": null,
   "metadata": {
    "id": "lj9ED7uJXd7T"
   },
   "outputs": [],
   "source": [
    "import tweepy\n",
    "import json\n",
    "import pandas as pd"
   ]
  },
  {
   "cell_type": "code",
   "execution_count": null,
   "metadata": {
    "id": "uSgB77ifXk9_"
   },
   "outputs": [],
   "source": [
    "consumer_key=\"OeNWmI69E1OOtB6iSZHhhSmTI\"\n",
    "consumer_secret=\"x6Q7pnjdChfZWI6BaRsLnhrpvg1K9A3hq9dC7B4JS1tfAE1p8i\"\n",
    "access_token=\"1428093851726663696-3HptU32HDoZ738wirud9R1kDFPBinr\"\n",
    "access_token_secret=\"ZxwHER5JdsG6iumbwoIWagUDzUAwqnUtnphsSdQYvRmQx\""
   ]
  },
  {
   "cell_type": "code",
   "execution_count": null,
   "metadata": {
    "id": "JpeiLt0fQcK5"
   },
   "outputs": [],
   "source": [
    "# Twitter authentication\n",
    "auth = tweepy.OAuthHandler(consumer_key, consumer_secret)   \n",
    "auth.set_access_token(access_token, access_token_secret) "
   ]
  },
  {
   "cell_type": "markdown",
   "metadata": {
    "id": "hdLKBaP1Xrb4"
   },
   "source": [
    "After getting access to Twitter data we’ll now create a file to save all the tweets in it."
   ]
  },
  {
   "cell_type": "code",
   "execution_count": null,
   "metadata": {
    "id": "XyXhGGucWxuZ"
   },
   "outputs": [],
   "source": [
    "tweet_list=[]\n",
    "class MyStreamListener(tweepy.StreamListener):\n",
    "    def __init__(self,api=None):\n",
    "        super(MyStreamListener,self).__init__()\n",
    "        self.num_tweets=0\n",
    "        self.file=open(\"tweet.txt\",\"w\")\n",
    "    def on_status(self,status):\n",
    "        tweet=status._json\n",
    "        self.file.write(json.dumps(tweet)+ '\\n')\n",
    "        tweet_list.append(status)\n",
    "        self.num_tweets+=1\n",
    "        if self.num_tweets<1000:\n",
    "            return True\n",
    "        else:\n",
    "            return False\n",
    "        self.file.close()"
   ]
  },
  {
   "cell_type": "markdown",
   "metadata": {
    "id": "yA7TVaFuXOYi"
   },
   "source": [
    "We’ll now create a filter that will extract tweets based on certain words that are mentioned. Basically, it will extract tweets that contain the words which are valid for our project. For example, if you want data regarding covid19 you will use specific words like corona, coronavirus, covid19, etc to filter out the tweets as shown below."
   ]
  },
  {
   "cell_type": "code",
   "execution_count": null,
   "metadata": {
    "id": "uoAoUvOZXPja"
   },
   "outputs": [],
   "source": [
    "#create streaming object and authenticate\n",
    "l = MyStreamListener()\n",
    "stream =tweepy.Stream(auth,l)\n",
    "#this line filters twiiter streams to capture data by keywords\n",
    "stream.filter(track=['covid','corona','covid19','coronavirus',\n",
    "'facemask','sanitizer','social-distancing'])"
   ]
  },
  {
   "cell_type": "markdown",
   "metadata": {
    "id": "Yr98UDnfXOUR"
   },
   "source": [
    "You can read the tweets stored in the file by following:-"
   ]
  },
  {
   "cell_type": "code",
   "execution_count": null,
   "metadata": {
    "id": "hPwC_zMMX77A"
   },
   "outputs": [],
   "source": [
    "tweets_data_path='tweet.txt'\n",
    "tweets_data=[]\n",
    "tweets_file=open(tweets_data_path,\"r\")\n",
    "#read in tweets and store on list\n",
    "for line in tweets_file:\n",
    "    tweet=json.loads(line)\n",
    "    tweets_data.append(tweet)\n",
    "tweets_file.close()"
   ]
  },
  {
   "cell_type": "code",
   "execution_count": null,
   "metadata": {
    "id": "nELQDL21X-Bp"
   },
   "outputs": [],
   "source": [
    "df = pd.read_"
   ]
  }
 ],
 "metadata": {
  "colab": {
   "collapsed_sections": [],
   "name": "TwitterSentiment.ipynb",
   "provenance": []
  },
  "kernelspec": {
   "display_name": "Python 3 (ipykernel)",
   "language": "python",
   "name": "python3"
  },
  "language_info": {
   "codemirror_mode": {
    "name": "ipython",
    "version": 3
   },
   "file_extension": ".py",
   "mimetype": "text/x-python",
   "name": "python",
   "nbconvert_exporter": "python",
   "pygments_lexer": "ipython3",
   "version": "3.9.7"
  }
 },
 "nbformat": 4,
 "nbformat_minor": 1
}
